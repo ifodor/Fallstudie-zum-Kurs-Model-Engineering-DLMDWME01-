{
 "cells": [
  {
   "cell_type": "code",
   "execution_count": 5,
   "id": "16759b21-75ab-46b6-959e-5a32fbba8d3a",
   "metadata": {},
   "outputs": [
    {
     "name": "stdout",
     "output_type": "stream",
     "text": [
      "Baseline MAE: 11.28\n",
      "Baseline RMSE: 31.06\n",
      "Baseline R²: -0.01\n"
     ]
    }
   ],
   "source": [
    "import pandas as pd\n",
    "import numpy as np\n",
    "from sklearn.model_selection import train_test_split\n",
    "from sklearn.dummy import DummyRegressor\n",
    "from sklearn.metrics import mean_absolute_error, mean_squared_error, r2_score\n",
    "import joblib\n",
    "\n",
    "def load_data(file_path):\n",
    "    \"\"\"Lädt die Daten aus einer CSV-Datei.\"\"\"\n",
    "    return pd.read_csv(file_path)\n",
    "\n",
    "def split_data(data, features, target, test_size=0.2, random_state=37):\n",
    "    \"\"\"Teilt die Daten in Trainings- und Testdatensätze auf.\"\"\"\n",
    "    X = data[features]\n",
    "    y = data[target]\n",
    "    return train_test_split(X, y, test_size=test_size, random_state=random_state)\n",
    "\n",
    "def save_splits(X_train, X_test, y_train, y_test, output_dir):\n",
    "    \"\"\"Speichert die Train- und Test-Daten in CSV-Dateien.\"\"\"\n",
    "    X_train.to_csv(f'{output_dir}/X_train.csv', index=False)\n",
    "    X_test.to_csv(f'{output_dir}/X_test.csv', index=False)\n",
    "    y_train.to_csv(f'{output_dir}/y_train.csv', index=False)\n",
    "    y_test.to_csv(f'{output_dir}/y_test.csv', index=False)\n",
    "\n",
    "def evaluate_model(model, X_test, y_test):\n",
    "    \"\"\"Bewertet das Modell und gibt MAE, RMSE und R² zurück.\"\"\"\n",
    "    predictions = model.predict(X_test)\n",
    "    mae = mean_absolute_error(y_test, predictions)\n",
    "    rmse = mean_squared_error(y_test, predictions, squared=False)\n",
    "    r2 = r2_score(y_test, predictions)\n",
    "    return mae, rmse, r2\n",
    "\n",
    "def train_baseline_model(X_train, y_train):\n",
    "    \"\"\"Trainiert das Basismodell (DummyRegressor) und gibt das Modell zurück.\"\"\"\n",
    "    baseline_model = DummyRegressor(strategy='median')\n",
    "    baseline_model.fit(X_train, y_train)\n",
    "    return baseline_model\n",
    "\n",
    "def save_model(model, path):\n",
    "    \"\"\"Speichert das trainierte Modell in einer Datei.\"\"\"\n",
    "    joblib.dump(model, path)\n",
    "\n",
    "def main():\n",
    "    # Dateipfade\n",
    "    input_file_path = r\"..\\data\\processed_data\\preprocessed_data.csv\"\n",
    "    baseline_model_path = r\"..\\models\\baseline_model.pkl\"\n",
    "    output_dir = r\"..\\data\"\n",
    "\n",
    "    # Daten einlesen\n",
    "    data = load_data(input_file_path)\n",
    "\n",
    "    # Feature- und Zielvariablen festlegen\n",
    "    features = ['calls_per_duty', 'month_sin', 'month_cos', 'year', 'day_of_week']\n",
    "    target = 'adjusted_need_cleaned'\n",
    "\n",
    "    # Aufteilen der Daten in Trainings- und Testset\n",
    "    X_train, X_test, y_train, y_test = split_data(data, features, target)\n",
    "\n",
    "    # Train- und Testdaten speichern\n",
    "    save_splits(X_train, X_test, y_train, y_test, output_dir)\n",
    "\n",
    "    # Baseline-Modell trainieren\n",
    "    baseline_model = train_baseline_model(X_train, y_train)\n",
    "    mae_baseline, rmse_baseline, r2_baseline = evaluate_model(baseline_model, X_test, y_test)\n",
    "\n",
    "    # Ergebnisse ausgeben\n",
    "    print(f'Baseline MAE: {mae_baseline:.2f}')\n",
    "    print(f'Baseline RMSE: {rmse_baseline:.2f}')\n",
    "    print(f'Baseline R²: {r2_baseline:.2f}')\n",
    "\n",
    "    # Baseline-Modell speichern\n",
    "    save_model(baseline_model, baseline_model_path)\n",
    "\n",
    "if __name__ == \"__main__\":\n",
    "    main()\n"
   ]
  },
  {
   "cell_type": "code",
   "execution_count": null,
   "id": "acf8740c-1629-4f6f-b581-8fadb39c2fce",
   "metadata": {},
   "outputs": [],
   "source": []
  }
 ],
 "metadata": {
  "kernelspec": {
   "display_name": "Python 3 (ipykernel)",
   "language": "python",
   "name": "python3"
  },
  "language_info": {
   "codemirror_mode": {
    "name": "ipython",
    "version": 3
   },
   "file_extension": ".py",
   "mimetype": "text/x-python",
   "name": "python",
   "nbconvert_exporter": "python",
   "pygments_lexer": "ipython3",
   "version": "3.11.9"
  }
 },
 "nbformat": 4,
 "nbformat_minor": 5
}

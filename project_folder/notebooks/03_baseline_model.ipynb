{
 "cells": [
  {
   "cell_type": "code",
   "execution_count": 18,
   "id": "e4076d59-819e-42bd-9e9c-4c5e5ebc3fbc",
   "metadata": {},
   "outputs": [
    {
     "name": "stdout",
     "output_type": "stream",
     "text": [
      "   n_sick   calls  n_duty  n_sby  sby_need  dafted  year  month  day_of_week  \\\n",
      "0      73  8154.0    1700     90       4.0     0.0  2016      4            4   \n",
      "1      64  8526.0    1700     90      70.0     0.0  2016      4            5   \n",
      "2      68  8088.0    1700     90       0.0     0.0  2016      4            6   \n",
      "3      71  7044.0    1700     90       0.0     0.0  2016      4            0   \n",
      "4      63  7236.0    1700     90       0.0     0.0  2016      4            1   \n",
      "\n",
      "   season_Autumn  season_Spring  season_Summer  season_Winter  calls_per_duty  \\\n",
      "0          False           True          False          False        4.796471   \n",
      "1          False           True          False          False        5.015294   \n",
      "2          False           True          False          False        4.757647   \n",
      "3          False           True          False          False        4.143529   \n",
      "4          False           True          False          False        4.256471   \n",
      "\n",
      "   sick_rate  \n",
      "0   0.042941  \n",
      "1   0.037647  \n",
      "2   0.040000  \n",
      "3   0.041765  \n",
      "4   0.037059  \n",
      "Baseline MAE: 46.65\n",
      "Baseline RMSE: 62.83\n"
     ]
    },
    {
     "data": {
      "text/plain": [
       "['C:\\\\Users\\\\Gast\\\\Documents\\\\Downloads\\\\IU\\\\Fallstudie_Modell_Engineering\\\\project_folder\\\\models\\\\baseline_model.pkl']"
      ]
     },
     "execution_count": 18,
     "metadata": {},
     "output_type": "execute_result"
    }
   ],
   "source": [
    "import pandas as pd\n",
    "from sklearn.model_selection import train_test_split\n",
    "from sklearn.dummy import DummyRegressor\n",
    "from sklearn.metrics import mean_absolute_error, mean_squared_error\n",
    "import joblib\n",
    "\n",
    "# Daten einlesen\n",
    "data = pd.read_csv(r\"C:\\Users\\Gast\\Documents\\Downloads\\IU\\Fallstudie_Modell_Engineering\\project_folder\\data\\processed_data\\preprocessed_data.csv\")\n",
    "\n",
    "# Unnötige Spalte entfernen\n",
    "#data = data.drop(columns=['n_sick','calls','n_duty','n_sby','sick_rate','year'])\n",
    "\n",
    "# Feature- und Zielvariablen festlegen\n",
    "features = [col for col in data.columns if col != 'sby_need']\n",
    "print(data.head())\n",
    "X = data[features]\n",
    "y = data['sby_need']\n",
    "\n",
    "# Aufteilen der Daten in Trainings- und Testset\n",
    "X_train, X_test, y_train, y_test = train_test_split(X, y, test_size=0.2, random_state=42)\n",
    "\n",
    "# Baseline-Modell\n",
    "baseline_model = DummyRegressor(strategy='mean')\n",
    "baseline_model.fit(X_train, y_train)\n",
    "baseline_predictions = baseline_model.predict(X_test)\n",
    "\n",
    "# Fehlermaße berechnen\n",
    "mae_baseline = mean_absolute_error(y_test, baseline_predictions)\n",
    "rmse_baseline = mean_squared_error(y_test, baseline_predictions, squared=False)\n",
    "\n",
    "print(f'Baseline MAE: {mae_baseline:.2f}')\n",
    "print(f'Baseline RMSE: {rmse_baseline:.2f}')\n",
    "\n",
    "# Speichern des Baseline-Modells\n",
    "joblib.dump(baseline_model, r\"C:\\Users\\Gast\\Documents\\Downloads\\IU\\Fallstudie_Modell_Engineering\\project_folder\\models\\baseline_model.pkl\")\n"
   ]
  },
  {
   "cell_type": "code",
   "execution_count": null,
   "id": "b1ab5387-6fc2-4521-a44c-f63a9e0c82b2",
   "metadata": {},
   "outputs": [],
   "source": []
  },
  {
   "cell_type": "code",
   "execution_count": null,
   "id": "16759b21-75ab-46b6-959e-5a32fbba8d3a",
   "metadata": {},
   "outputs": [],
   "source": []
  }
 ],
 "metadata": {
  "kernelspec": {
   "display_name": "Python 3 (ipykernel)",
   "language": "python",
   "name": "python3"
  },
  "language_info": {
   "codemirror_mode": {
    "name": "ipython",
    "version": 3
   },
   "file_extension": ".py",
   "mimetype": "text/x-python",
   "name": "python",
   "nbconvert_exporter": "python",
   "pygments_lexer": "ipython3",
   "version": "3.11.9"
  }
 },
 "nbformat": 4,
 "nbformat_minor": 5
}
